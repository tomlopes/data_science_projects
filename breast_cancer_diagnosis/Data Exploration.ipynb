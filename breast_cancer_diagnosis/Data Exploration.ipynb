{
 "cells": [
  {
   "cell_type": "markdown",
   "id": "4b44b449-b308-44f3-bffd-08a9ac66bfa8",
   "metadata": {},
   "source": [
    "# Imports"
   ]
  },
  {
   "cell_type": "code",
   "execution_count": null,
   "id": "2619fa8b-66d7-4fad-a490-84508b69c012",
   "metadata": {},
   "outputs": [],
   "source": [
    "import pandas as pd\n",
    "import seaborn as sns\n",
    "import matplotlib.pyplot as plt\n",
    "import numpy as np"
   ]
  },
  {
   "cell_type": "markdown",
   "id": "478e0d05-0b7c-4b46-b13d-5fc60d296108",
   "metadata": {},
   "source": [
    "# Import Data"
   ]
  },
  {
   "cell_type": "code",
   "execution_count": null,
   "id": "bcd474eb-3efd-4dcb-bf92-3df3f3f03f2b",
   "metadata": {},
   "outputs": [],
   "source": [
    "pd.set_option('display.max_columns', None)"
   ]
  },
  {
   "cell_type": "code",
   "execution_count": null,
   "id": "dbbfdf69-3605-4cfb-8a63-2c52d137b2e3",
   "metadata": {},
   "outputs": [],
   "source": [
    "df = pd.read_csv('data.csv')"
   ]
  },
  {
   "cell_type": "code",
   "execution_count": null,
   "id": "a96cda00-f5ec-48f5-be5b-a5c630fe758f",
   "metadata": {},
   "outputs": [],
   "source": [
    "df = df.drop(['id', 'Unnamed: 32'], axis=1)"
   ]
  },
  {
   "cell_type": "code",
   "execution_count": null,
   "id": "53288feb-3004-465b-b1da-9ee8925d9393",
   "metadata": {},
   "outputs": [],
   "source": [
    "df['diagnosis'] = df['diagnosis'].map({'M': 1, 'B':0})"
   ]
  },
  {
   "cell_type": "code",
   "execution_count": null,
   "id": "2f253118-2a9c-45fc-8f19-d499ba638519",
   "metadata": {},
   "outputs": [],
   "source": [
    "# IN THE MODEL TRAINING CONVERT TARGET TO INT64. I USE CATEGORY HERE TO CREATE THE EDA VISUALIZATIONS\n",
    "df['diagnosis'] = df['diagnosis'].astype('category')\n",
    "# df['diagnosis'] = df['diagnosis'].astype('int64')"
   ]
  },
  {
   "cell_type": "code",
   "execution_count": null,
   "id": "f77c26d8-9755-4043-9589-8a164467ba49",
   "metadata": {},
   "outputs": [],
   "source": [
    "df"
   ]
  },
  {
   "cell_type": "markdown",
   "id": "965b6e42-15c6-4c4d-ab2d-c001565f8f0b",
   "metadata": {},
   "source": [
    "# Dataset Summary"
   ]
  },
  {
   "cell_type": "code",
   "execution_count": null,
   "id": "70b77b85-144c-49fc-ac0d-42d87d7dcda8",
   "metadata": {},
   "outputs": [],
   "source": [
    "df.info()"
   ]
  },
  {
   "cell_type": "code",
   "execution_count": null,
   "id": "ae4a840c-6f45-43c1-8e1a-9294d37eebad",
   "metadata": {},
   "outputs": [],
   "source": [
    "df.shape"
   ]
  },
  {
   "cell_type": "code",
   "execution_count": null,
   "id": "a2259a64-53c5-47a6-8edc-4ed41ba21040",
   "metadata": {},
   "outputs": [],
   "source": [
    "df.isnull().sum()"
   ]
  },
  {
   "cell_type": "code",
   "execution_count": null,
   "id": "a941c930-c86f-4edd-965e-3ba8a5f3f834",
   "metadata": {},
   "outputs": [],
   "source": [
    "df.describe(include = 'all')"
   ]
  },
  {
   "cell_type": "code",
   "execution_count": null,
   "id": "dbf05430-282e-4431-86ca-e15da23ab51b",
   "metadata": {},
   "outputs": [],
   "source": [
    "df.value_counts('diagnosis')"
   ]
  },
  {
   "cell_type": "code",
   "execution_count": null,
   "id": "8977ca2c-7b4e-49d6-8dc8-ba429a55270b",
   "metadata": {},
   "outputs": [],
   "source": [
    "numerical_features = df.select_dtypes(include='number').columns\n",
    "categorical_features = df.select_dtypes(include='category').columns\n",
    "target = 'diagnosis'"
   ]
  },
  {
   "cell_type": "markdown",
   "id": "e4715b44-06f8-4c85-b994-be4ed07ff601",
   "metadata": {},
   "source": [
    "# Dataset Distributions"
   ]
  },
  {
   "cell_type": "code",
   "execution_count": null,
   "id": "708a70d3-f11d-493b-8d4b-4f073c00b9e1",
   "metadata": {},
   "outputs": [],
   "source": [
    "plt.figure(figsize=(10,8))\n",
    "sns.boxplot(df)\n",
    "plt.show()"
   ]
  },
  {
   "cell_type": "code",
   "execution_count": null,
   "id": "d0d448f7-c6d6-4f08-9a98-d825376ba43a",
   "metadata": {
    "scrolled": true
   },
   "outputs": [],
   "source": [
    "for column in numerical_features:\n",
    "    sns.boxplot(df[column])\n",
    "    plt.title(f'{column} Boxplot')\n",
    "    plt.show()"
   ]
  },
  {
   "cell_type": "code",
   "execution_count": null,
   "id": "1c44fdfe-33cb-457f-9c5a-038d78bf82da",
   "metadata": {
    "scrolled": true
   },
   "outputs": [],
   "source": [
    "for column in numerical_features:\n",
    "    plt.figure()\n",
    "    sns.boxplot(data=df, x=column, y=target, hue=target)\n",
    "    plt.title(f'Boxplot: {column} x {target}')\n",
    "    plt.show()"
   ]
  },
  {
   "cell_type": "code",
   "execution_count": null,
   "id": "0f000742-f935-4b47-a07d-0f30583bab68",
   "metadata": {
    "scrolled": true
   },
   "outputs": [],
   "source": [
    "for column in numerical_features:\n",
    "    df.hist(column)\n",
    "    plt.show()"
   ]
  },
  {
   "cell_type": "code",
   "execution_count": null,
   "id": "9af98982-b95f-4834-aafe-a1f93174af59",
   "metadata": {
    "scrolled": true
   },
   "outputs": [],
   "source": [
    "for column in numerical_features:\n",
    "    df[column].plot(kind = 'kde')\n",
    "    plt.title(f'Kernel Density Estimate: {column}')\n",
    "    plt.xlabel(column)\n",
    "    plt.show()"
   ]
  },
  {
   "cell_type": "markdown",
   "id": "e8ff6be8-7773-41cb-b49d-52a50e754cf6",
   "metadata": {},
   "source": [
    "# Correlations"
   ]
  },
  {
   "cell_type": "code",
   "execution_count": null,
   "id": "1a45f2eb-9d41-4177-bf0c-4653458505f7",
   "metadata": {},
   "outputs": [],
   "source": [
    "plt.figure(figsize=(20,10))\n",
    "\n",
    "# create an auxiliar df to plot the correlations with the target\n",
    "df_aux = df\n",
    "df_aux['diagnosis'] = df_aux['diagnosis'].astype('int64')\n",
    "sns.heatmap(df_aux.corr(numeric_only = True), annot=True, cmap='coolwarm', fmt='.2f')\n",
    "plt.show()"
   ]
  },
  {
   "cell_type": "code",
   "execution_count": null,
   "id": "7d97886a-2e70-4864-a4d6-b599e541b6fa",
   "metadata": {},
   "outputs": [],
   "source": [
    "from scipy.stats import f_oneway\n",
    "\n",
    "# Anova test\n",
    "for column in numerical_features:\n",
    "    groups = [df[df[target] == i][column] for i in df[target].unique()]\n",
    "    f_stat, p_value = f_oneway(*groups)\n",
    "    print(f\"{column}: \\nF-statistic: {f_stat:.10f}, P-value: {p_value:.10f}\")"
   ]
  },
  {
   "cell_type": "code",
   "execution_count": null,
   "id": "5d14e59d-ce97-4c59-9e0f-390cf594af64",
   "metadata": {
    "scrolled": true
   },
   "outputs": [],
   "source": [
    "# when there are too many variables, plot one by one\n",
    "for column1 in df.columns:\n",
    "    for column2 in df.columns:\n",
    "        if column1 == column2:\n",
    "            continue\n",
    "        else:\n",
    "            sns.regplot(x=df[column1], y=df[column2], scatter_kws={'alpha':0.3})\n",
    "            plt.title(f'{column1} vs {column2}')\n",
    "            plt.xlabel(column1)\n",
    "            plt.ylabel(column2)\n",
    "            plt.tight_layout()\n",
    "            plt.show()"
   ]
  },
  {
   "cell_type": "code",
   "execution_count": null,
   "id": "8a36e1ed-a755-48be-8dd7-bb1b2fc07ea0",
   "metadata": {
    "scrolled": true
   },
   "outputs": [],
   "source": [
    "# when there are too many variables, plot one by one\n",
    "for column1 in df.columns:\n",
    "    for column2 in df.columns:\n",
    "        if column1 == column2:\n",
    "            continue\n",
    "        else:\n",
    "            sns.kdeplot(x=df[column1], y=df[column2], fill=True, thresh=0.05)\n",
    "            plt.title(f'{column1} vs {column2}')\n",
    "            plt.xlabel(column1)\n",
    "            plt.ylabel(column2)\n",
    "            plt.tight_layout()\n",
    "            plt.show()"
   ]
  },
  {
   "cell_type": "markdown",
   "id": "5dd84ce7-cfca-4679-85e2-b6a2a68df81f",
   "metadata": {},
   "source": [
    "# Categorical Features"
   ]
  },
  {
   "cell_type": "code",
   "execution_count": null,
   "id": "9ed00eff-7b79-4d70-93cc-4e8c15cc62c8",
   "metadata": {},
   "outputs": [],
   "source": [
    "for column in categorical_features:\n",
    "    print(df[column].value_counts())"
   ]
  },
  {
   "cell_type": "code",
   "execution_count": null,
   "id": "648b0f78-104b-47c0-81ef-d97444c219cb",
   "metadata": {},
   "outputs": [],
   "source": [
    "# plot the value counts as bar plot with respect to the target variable\n",
    "for column in categorical_features:\n",
    "    sns.countplot(data=df, x=column, hue=target)\n",
    "    plt.title(f'{column} Countplot with respect with the target')\n",
    "    plt.show()"
   ]
  },
  {
   "cell_type": "markdown",
   "id": "14d3d0bd-7dcb-4e0c-8a2e-28512bec4cf4",
   "metadata": {},
   "source": [
    "# Feature Relations"
   ]
  },
  {
   "cell_type": "code",
   "execution_count": null,
   "id": "094e31b2-d509-4010-b2bf-70fcb94ae59d",
   "metadata": {
    "scrolled": true
   },
   "outputs": [],
   "source": [
    "# scatter plot to check if there is a relation between the numerical columns and the target variable\n",
    "for column in numerical_features:\n",
    "    sns.scatterplot(x=df[column], y=df.index, hue=df[target])\n",
    "    plt.title(f\"Scatter plot of {column} colored by target\")\n",
    "    plt.xlabel(column)\n",
    "    plt.ylabel(target)  # Replace with any other y-variable if needed\n",
    "    plt.show()"
   ]
  },
  {
   "cell_type": "code",
   "execution_count": null,
   "id": "33ce9034-cc70-42a9-8c8a-931b9fa632b1",
   "metadata": {
    "scrolled": true
   },
   "outputs": [],
   "source": [
    "for column in numerical_features:\n",
    "    sns.kdeplot(data=df, x=column, hue=target, fill=True)\n",
    "    plt.title(f'Kernel Density Estimate: {column}')\n",
    "    plt.xlabel(column)\n",
    "    plt.show()"
   ]
  },
  {
   "cell_type": "code",
   "execution_count": null,
   "id": "1a1b1fc0-4743-42e2-b989-7b78b8a57a09",
   "metadata": {
    "scrolled": true
   },
   "outputs": [],
   "source": [
    "for column in numerical_features:\n",
    "    sns.violinplot(data=df, y=column, hue=target)\n",
    "    plt.title(f'Violin Plot of {column} by Target')\n",
    "    plt.show()"
   ]
  },
  {
   "cell_type": "code",
   "execution_count": null,
   "id": "d162b8ae-2f89-4ec9-93b2-557202d3fea5",
   "metadata": {
    "scrolled": true
   },
   "outputs": [],
   "source": [
    "for column in numerical_features:\n",
    "    sns.histplot(df, x=column, hue=target, kde=True, multiple=\"layer\")\n",
    "    plt.title(f'Histogram of {column} by Target')\n",
    "    plt.show()"
   ]
  },
  {
   "cell_type": "markdown",
   "id": "3858d337-9799-4741-8ac6-af6596bad77c",
   "metadata": {},
   "source": [
    "# Dataset Balance"
   ]
  },
  {
   "cell_type": "code",
   "execution_count": null,
   "id": "ae9d0a33-30b7-432b-a328-7e5c046b0dc1",
   "metadata": {},
   "outputs": [],
   "source": [
    "df[target]"
   ]
  },
  {
   "cell_type": "code",
   "execution_count": null,
   "id": "7914e4b0-b394-43c5-9b32-cca9390e0501",
   "metadata": {},
   "outputs": [],
   "source": [
    "sns.countplot(df[target])"
   ]
  },
  {
   "cell_type": "markdown",
   "id": "1f82cdeb-abf8-4b3d-9c53-f0768743af19",
   "metadata": {},
   "source": [
    "# Notes"
   ]
  },
  {
   "cell_type": "markdown",
   "id": "6bb9a1b2-87d5-41e8-bc92-8af905e28e2e",
   "metadata": {},
   "source": [
    "1 - The dataset doesn't require balance. Even though there are more benign cancers, we have enough malignant cancers to train the model. Instead of balancing, weights with regard to the disporpotion can be used\n",
    "\n",
    "2 - Feature scaling should be performed, features are not in the same scale and that can impact training\n",
    "\n",
    "3 - No null values in any column\n",
    "\n",
    "4 - Not really worried with outliers. The values seem to be of malignant cancers and we need those values to train\n",
    "\n",
    "5 - There are a lot of features with high correlation\n",
    "    \n",
    "    5.1 - Example: area and radius which obviously one is calculated with the other. I will test the models using all the features and then check the feature importances and remove the features accordingly.\n",
    "    \n",
    "    5.2 - Additionaly, there are features that are correlated between the different type of measures, i.e., area_mean and area_worst. This is expected but I will evaluate how the models react when using both measurements\n",
    "\n",
    "6 - As expected, largest tumours seem to be malignant. We have strong correlations between large tumours and the target variable. Mainly in the mean and worst measurements."
   ]
  }
 ],
 "metadata": {
  "kernelspec": {
   "display_name": "Python [conda env:base] *",
   "language": "python",
   "name": "conda-base-py"
  },
  "language_info": {
   "codemirror_mode": {
    "name": "ipython",
    "version": 3
   },
   "file_extension": ".py",
   "mimetype": "text/x-python",
   "name": "python",
   "nbconvert_exporter": "python",
   "pygments_lexer": "ipython3",
   "version": "3.13.5"
  }
 },
 "nbformat": 4,
 "nbformat_minor": 5
}
